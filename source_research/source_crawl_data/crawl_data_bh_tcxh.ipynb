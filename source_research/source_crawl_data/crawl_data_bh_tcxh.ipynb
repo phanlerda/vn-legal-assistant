{
 "cells": [
  {
   "cell_type": "markdown",
   "metadata": {},
   "source": [
    "import libraries"
   ]
  },
  {
   "cell_type": "code",
   "execution_count": 1,
   "metadata": {},
   "outputs": [],
   "source": [
    "import requests\n",
    "from bs4 import BeautifulSoup\n",
    "import pandas as pd"
   ]
  },
  {
   "cell_type": "markdown",
   "metadata": {},
   "source": [
    "Bảo hiểm - Trợ cấp xã hội"
   ]
  },
  {
   "cell_type": "markdown",
   "metadata": {},
   "source": [
    "find elements"
   ]
  },
  {
   "cell_type": "code",
   "execution_count": 3,
   "metadata": {},
   "outputs": [],
   "source": [
    "# Function to crawl data from a page\n",
    "def crawl_page(url):\n",
    "    response = requests.get(url)\n",
    "    soup = BeautifulSoup(response.content, 'html.parser')\n",
    "    articles = soup.find_all('div', class_='box-item-content')\n",
    "    articles_data = []\n",
    "    \n",
    "    for _, article in enumerate(articles, start=1):\n",
    "        # Get author and time information\n",
    "        author_info = article.find('div', class_='box-item-top')\n",
    "        name = author_info.find('span', class_='author').get_text(strip=True)\n",
    "        time = author_info.find('span', class_='time').get_text(strip=True)\n",
    "\n",
    "        # Get question title\n",
    "        question_element = article.find('a', class_='question-title')\n",
    "        question = question_element.get_text(strip=True)\n",
    "        \n",
    "        # Get situation/summary\n",
    "        summary = article.find('div', class_='question-sapo').get_text(strip=True)\n",
    "        \n",
    "        # Get detail link\n",
    "        detail_link = article.find('a', class_='box-viewmore')['href']\n",
    "        detail_url = f\"https://chinhsachonline.chinhphu.vn{detail_link}\"\n",
    "        \n",
    "        # Send HTTP request to get detail page content\n",
    "        detail_response = requests.get(detail_url)\n",
    "        detail_soup = BeautifulSoup(detail_response.content, 'html.parser')\n",
    "        \n",
    "        # Get answer from detail page\n",
    "        answer_div = detail_soup.find('div', class_='detail__rcontent')\n",
    "        answer = answer_div.get_text(strip=True) if answer_div else 'No answer available'\n",
    "        \n",
    "        # Add article information to the list\n",
    "        articles_data.append({\n",
    "            'Name': name,\n",
    "            'Time': time,\n",
    "            'Question': question,\n",
    "            'Situation': summary,\n",
    "            'Answer': answer\n",
    "        })\n",
    "    \n",
    "    return articles_data"
   ]
  },
  {
   "cell_type": "markdown",
   "metadata": {},
   "source": [
    "execute function"
   ]
  },
  {
   "cell_type": "code",
   "execution_count": 4,
   "metadata": {},
   "outputs": [],
   "source": [
    "articles_data = []\n",
    "for page_num in range(1, 300):\n",
    "    page_url = f\"https://chinhsachonline.chinhphu.vn/bao-hiem-tro-cap-xa-hoi/t1/1/trang-{page_num}.htm\"\n",
    "    articles_data.extend(crawl_page(page_url))"
   ]
  },
  {
   "cell_type": "markdown",
   "metadata": {},
   "source": [
    "export to CSV"
   ]
  },
  {
   "cell_type": "code",
   "execution_count": 5,
   "metadata": {},
   "outputs": [
    {
     "data": {
      "text/html": [
       "<div>\n",
       "<style scoped>\n",
       "    .dataframe tbody tr th:only-of-type {\n",
       "        vertical-align: middle;\n",
       "    }\n",
       "\n",
       "    .dataframe tbody tr th {\n",
       "        vertical-align: top;\n",
       "    }\n",
       "\n",
       "    .dataframe thead th {\n",
       "        text-align: right;\n",
       "    }\n",
       "</style>\n",
       "<table border=\"1\" class=\"dataframe\">\n",
       "  <thead>\n",
       "    <tr style=\"text-align: right;\">\n",
       "      <th></th>\n",
       "      <th>Name</th>\n",
       "      <th>Time</th>\n",
       "      <th>Question</th>\n",
       "      <th>Situation</th>\n",
       "      <th>Answer</th>\n",
       "    </tr>\n",
       "  </thead>\n",
       "  <tbody>\n",
       "    <tr>\n",
       "      <th>0</th>\n",
       "      <td>Trần Thị Thu Hà</td>\n",
       "      <td>10:05 29/07/2025</td>\n",
       "      <td>Tính đóng BHXH thời gian nghỉ dưỡng sức sau th...</td>\n",
       "      <td>Người lao động nghỉ thai sản sinh con phẫu thu...</td>\n",
       "      <td>Bảo hiểm xã hội khu vực XVIII trả lời vấn đề n...</td>\n",
       "    </tr>\n",
       "    <tr>\n",
       "      <th>1</th>\n",
       "      <td>Nguyễn Minh Châu</td>\n",
       "      <td>11:59 28/07/2025</td>\n",
       "      <td>Đối tượng tham gia BHXH tự nguyện</td>\n",
       "      <td>Bố tôi đã chết, mẹ tôi sinh năm 1969, sống cùn...</td>\n",
       "      <td>Bảo hiểm xã hội khu vực XVIII trả lời vấn đề n...</td>\n",
       "    </tr>\n",
       "    <tr>\n",
       "      <th>2</th>\n",
       "      <td>Ngô Doãn Đô</td>\n",
       "      <td>07:05 26/07/2025</td>\n",
       "      <td>Có được hưởng trợ cấp thất nghiệp trước khi xi...</td>\n",
       "      <td>Tôi sinh tháng 10/1966, đóng BHXH bắt buộc đượ...</td>\n",
       "      <td>Bảo hiểm xã hội Việt Nam trả lời vấn đề này nh...</td>\n",
       "    </tr>\n",
       "    <tr>\n",
       "      <th>3</th>\n",
       "      <td>Vũ Hồng Sang</td>\n",
       "      <td>14:05 21/07/2025</td>\n",
       "      <td>Cách tính lương hưu theo Luật BHXH 2024</td>\n",
       "      <td>Mẹ tôi là giáo viên THCS, sinh ngày 7/8/1971 v...</td>\n",
       "      <td>Bảo hiểm xã hội khu vực XVI trả lời vấn đề này...</td>\n",
       "    </tr>\n",
       "    <tr>\n",
       "      <th>4</th>\n",
       "      <td>Lê Tiến Dũng</td>\n",
       "      <td>14:05 19/07/2025</td>\n",
       "      <td>Ông Lê Tiến Dũng đã được hỗ trợ thủ tục hưởng ...</td>\n",
       "      <td>Ngày 13/3/2025, tôi đến BHXH TP. Thủ Đức để nộ...</td>\n",
       "      <td>Bảo hiểm xã hội khu vực XXVII trả lời vấn đề n...</td>\n",
       "    </tr>\n",
       "  </tbody>\n",
       "</table>\n",
       "</div>"
      ],
      "text/plain": [
       "               Name              Time  \\\n",
       "0   Trần Thị Thu Hà  10:05 29/07/2025   \n",
       "1  Nguyễn Minh Châu  11:59 28/07/2025   \n",
       "2       Ngô Doãn Đô  07:05 26/07/2025   \n",
       "3      Vũ Hồng Sang  14:05 21/07/2025   \n",
       "4      Lê Tiến Dũng  14:05 19/07/2025   \n",
       "\n",
       "                                            Question  \\\n",
       "0  Tính đóng BHXH thời gian nghỉ dưỡng sức sau th...   \n",
       "1                  Đối tượng tham gia BHXH tự nguyện   \n",
       "2  Có được hưởng trợ cấp thất nghiệp trước khi xi...   \n",
       "3            Cách tính lương hưu theo Luật BHXH 2024   \n",
       "4  Ông Lê Tiến Dũng đã được hỗ trợ thủ tục hưởng ...   \n",
       "\n",
       "                                           Situation  \\\n",
       "0  Người lao động nghỉ thai sản sinh con phẫu thu...   \n",
       "1  Bố tôi đã chết, mẹ tôi sinh năm 1969, sống cùn...   \n",
       "2  Tôi sinh tháng 10/1966, đóng BHXH bắt buộc đượ...   \n",
       "3  Mẹ tôi là giáo viên THCS, sinh ngày 7/8/1971 v...   \n",
       "4  Ngày 13/3/2025, tôi đến BHXH TP. Thủ Đức để nộ...   \n",
       "\n",
       "                                              Answer  \n",
       "0  Bảo hiểm xã hội khu vực XVIII trả lời vấn đề n...  \n",
       "1  Bảo hiểm xã hội khu vực XVIII trả lời vấn đề n...  \n",
       "2  Bảo hiểm xã hội Việt Nam trả lời vấn đề này nh...  \n",
       "3  Bảo hiểm xã hội khu vực XVI trả lời vấn đề này...  \n",
       "4  Bảo hiểm xã hội khu vực XXVII trả lời vấn đề n...  "
      ]
     },
     "execution_count": 5,
     "metadata": {},
     "output_type": "execute_result"
    }
   ],
   "source": [
    "# Create DataFrame from the data list\n",
    "df_bh = pd.DataFrame(articles_data)\n",
    "df_bh.head(5)"
   ]
  },
  {
   "cell_type": "code",
   "execution_count": null,
   "metadata": {},
   "outputs": [
    {
     "name": "stdout",
     "output_type": "stream",
     "text": [
      "Successfully saved data to ../source_fine_tuning/data/bh_tcxh_data.csv\n"
     ]
    }
   ],
   "source": [
    " # Save DataFrame to CSV file\n",
    "csv_file = '../source_fine_tuning/data/bh_tcxh_data.csv'\n",
    "df_bh.to_csv(csv_file, encoding='utf-8',index_label='Index')\n",
    "\n",
    "print(f\"Successfully saved data to {csv_file}\")"
   ]
  },
  {
   "cell_type": "code",
   "execution_count": 7,
   "metadata": {},
   "outputs": [],
   "source": [
    "df_bh=pd.read_csv(\"../source_fine_tuning/data/bh_tcxh_data.csv\",encoding='utf-8')"
   ]
  },
  {
   "cell_type": "code",
   "execution_count": 8,
   "metadata": {},
   "outputs": [
    {
     "data": {
      "text/plain": [
       "(1904, 6)"
      ]
     },
     "execution_count": 8,
     "metadata": {},
     "output_type": "execute_result"
    }
   ],
   "source": [
    "df_bh.shape"
   ]
  }
 ],
 "metadata": {
  "kernelspec": {
   "display_name": "_env_",
   "language": "python",
   "name": "python3"
  },
  "language_info": {
   "codemirror_mode": {
    "name": "ipython",
    "version": 3
   },
   "file_extension": ".py",
   "mimetype": "text/x-python",
   "name": "python",
   "nbconvert_exporter": "python",
   "pygments_lexer": "ipython3",
   "version": "3.11.13"
  }
 },
 "nbformat": 4,
 "nbformat_minor": 2
}
