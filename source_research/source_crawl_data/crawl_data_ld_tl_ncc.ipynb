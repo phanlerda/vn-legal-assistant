{
 "cells": [
  {
   "cell_type": "markdown",
   "metadata": {},
   "source": [
    "import libraries"
   ]
  },
  {
   "cell_type": "code",
   "execution_count": 1,
   "metadata": {},
   "outputs": [],
   "source": [
    "import requests\n",
    "from bs4 import BeautifulSoup\n",
    "import pandas as pd"
   ]
  },
  {
   "cell_type": "markdown",
   "metadata": {},
   "source": [
    "Lao động - Tiền lương - Người có công"
   ]
  },
  {
   "cell_type": "markdown",
   "metadata": {},
   "source": [
    "find elements"
   ]
  },
  {
   "cell_type": "code",
   "execution_count": 2,
   "metadata": {},
   "outputs": [],
   "source": [
    "# Function to crawl data from a page\n",
    "def crawl_page(url):\n",
    "    response = requests.get(url)\n",
    "    soup = BeautifulSoup(response.content, 'html.parser')\n",
    "    articles = soup.find_all('div', class_='box-item-content')\n",
    "    articles_data = []\n",
    "    \n",
    "    for _, article in enumerate(articles, start=1):\n",
    "        # Get author and time information\n",
    "        author_info = article.find('div', class_='box-item-top')\n",
    "        name = author_info.find('span', class_='author').get_text(strip=True)\n",
    "        time = author_info.find('span', class_='time').get_text(strip=True)\n",
    "\n",
    "        # Get question title\n",
    "        question_element = article.find('a', class_='question-title')\n",
    "        question = question_element.get_text(strip=True)\n",
    "        \n",
    "        # Get situation/summary\n",
    "        summary = article.find('div', class_='question-sapo').get_text(strip=True)\n",
    "        \n",
    "        # Get detail link\n",
    "        detail_link = article.find('a', class_='box-viewmore')['href']\n",
    "        detail_url = f\"https://chinhsachonline.chinhphu.vn{detail_link}\"\n",
    "        \n",
    "        # Send HTTP request to get detail page content\n",
    "        detail_response = requests.get(detail_url)\n",
    "        detail_soup = BeautifulSoup(detail_response.content, 'html.parser')\n",
    "        \n",
    "        # Get answer from detail page\n",
    "        answer_div = detail_soup.find('div', class_='detail__rcontent')\n",
    "        answer = answer_div.get_text(strip=True) if answer_div else 'No answer available'\n",
    "        \n",
    "        # Add article information to the list\n",
    "        articles_data.append({\n",
    "            'Name': name,\n",
    "            'Time': time,\n",
    "            'Question': question,\n",
    "            'Situation': summary,\n",
    "            'Answer': answer\n",
    "        })\n",
    "    \n",
    "    return articles_data"
   ]
  },
  {
   "cell_type": "markdown",
   "metadata": {},
   "source": [
    "execute function"
   ]
  },
  {
   "cell_type": "code",
   "execution_count": 3,
   "metadata": {},
   "outputs": [],
   "source": [
    "articles_data = []\n",
    "for page_num in range(1, 300):\n",
    "    page_url = f\"https://chinhsachonline.chinhphu.vn/lao-dong-tien-luong-nguoi-co-cong/t1/11/trang-{page_num}.htm\"\n",
    "    articles_data.extend(crawl_page(page_url))"
   ]
  },
  {
   "cell_type": "markdown",
   "metadata": {},
   "source": [
    "export to CSV"
   ]
  },
  {
   "cell_type": "code",
   "execution_count": 4,
   "metadata": {},
   "outputs": [
    {
     "data": {
      "text/html": [
       "<div>\n",
       "<style scoped>\n",
       "    .dataframe tbody tr th:only-of-type {\n",
       "        vertical-align: middle;\n",
       "    }\n",
       "\n",
       "    .dataframe tbody tr th {\n",
       "        vertical-align: top;\n",
       "    }\n",
       "\n",
       "    .dataframe thead th {\n",
       "        text-align: right;\n",
       "    }\n",
       "</style>\n",
       "<table border=\"1\" class=\"dataframe\">\n",
       "  <thead>\n",
       "    <tr style=\"text-align: right;\">\n",
       "      <th></th>\n",
       "      <th>Name</th>\n",
       "      <th>Time</th>\n",
       "      <th>Question</th>\n",
       "      <th>Situation</th>\n",
       "      <th>Answer</th>\n",
       "    </tr>\n",
       "  </thead>\n",
       "  <tbody>\n",
       "    <tr>\n",
       "      <th>0</th>\n",
       "      <td>Phạm Thị Thu Hường</td>\n",
       "      <td>08:05 30/07/2025</td>\n",
       "      <td>Công tác ở vùng đặc biệt khó khăn có được nghỉ...</td>\n",
       "      <td>Tôi sinh ngày 8/5/1971, công tác tại Văn phòng...</td>\n",
       "      <td>Bộ Nội vụ trả lời vấn đề này như sau:Về việc x...</td>\n",
       "    </tr>\n",
       "    <tr>\n",
       "      <th>1</th>\n",
       "      <td>Lê Nhã</td>\n",
       "      <td>08:05 29/07/2025</td>\n",
       "      <td>Cán bộ không chuyên trách xã nghỉ tinh giản, t...</td>\n",
       "      <td>Năm 2017, tôi làm việc tại một công ty, đóng B...</td>\n",
       "      <td>Bộ Nội vụ trả lời vấn đề này như sau:Khoản 5 Đ...</td>\n",
       "    </tr>\n",
       "    <tr>\n",
       "      <th>2</th>\n",
       "      <td>Nguyễn Quốc Phú</td>\n",
       "      <td>08:05 28/07/2025</td>\n",
       "      <td>Chế độ với cán bộ không chuyên trách xã đủ tuổ...</td>\n",
       "      <td>Mẹ tôi sinh năm 1958, làm Chủ tịch Hội Người c...</td>\n",
       "      <td>Bộ Nội vụ trả lời vấn đề này như sau:Sau khi n...</td>\n",
       "    </tr>\n",
       "    <tr>\n",
       "      <th>3</th>\n",
       "      <td>Trần Thị Bé Hai</td>\n",
       "      <td>13:05 27/07/2025</td>\n",
       "      <td>Tiêu chuẩn, hồ sơ, thủ tục xét tặng Bằng khen ...</td>\n",
       "      <td>Tôi là giáo viên trường tiểu học. Theo kết quả...</td>\n",
       "      <td>Bộ Nội vụ trả lời vấn đề này như sau:Khoản 11 ...</td>\n",
       "    </tr>\n",
       "    <tr>\n",
       "      <th>4</th>\n",
       "      <td>Lê Thị Ngân</td>\n",
       "      <td>08:05 27/07/2025</td>\n",
       "      <td>Chính sách ưu đãi tiền sử dụng đất đối với con...</td>\n",
       "      <td>Em họ tôi là con liệt sĩ và đang muốn chuyển m...</td>\n",
       "      <td>Đội thuế liên huyện Bình Long – Chơn Thành (cũ...</td>\n",
       "    </tr>\n",
       "  </tbody>\n",
       "</table>\n",
       "</div>"
      ],
      "text/plain": [
       "                 Name              Time  \\\n",
       "0  Phạm Thị Thu Hường  08:05 30/07/2025   \n",
       "1              Lê Nhã  08:05 29/07/2025   \n",
       "2     Nguyễn Quốc Phú  08:05 28/07/2025   \n",
       "3     Trần Thị Bé Hai  13:05 27/07/2025   \n",
       "4         Lê Thị Ngân  08:05 27/07/2025   \n",
       "\n",
       "                                            Question  \\\n",
       "0  Công tác ở vùng đặc biệt khó khăn có được nghỉ...   \n",
       "1  Cán bộ không chuyên trách xã nghỉ tinh giản, t...   \n",
       "2  Chế độ với cán bộ không chuyên trách xã đủ tuổ...   \n",
       "3  Tiêu chuẩn, hồ sơ, thủ tục xét tặng Bằng khen ...   \n",
       "4  Chính sách ưu đãi tiền sử dụng đất đối với con...   \n",
       "\n",
       "                                           Situation  \\\n",
       "0  Tôi sinh ngày 8/5/1971, công tác tại Văn phòng...   \n",
       "1  Năm 2017, tôi làm việc tại một công ty, đóng B...   \n",
       "2  Mẹ tôi sinh năm 1958, làm Chủ tịch Hội Người c...   \n",
       "3  Tôi là giáo viên trường tiểu học. Theo kết quả...   \n",
       "4  Em họ tôi là con liệt sĩ và đang muốn chuyển m...   \n",
       "\n",
       "                                              Answer  \n",
       "0  Bộ Nội vụ trả lời vấn đề này như sau:Về việc x...  \n",
       "1  Bộ Nội vụ trả lời vấn đề này như sau:Khoản 5 Đ...  \n",
       "2  Bộ Nội vụ trả lời vấn đề này như sau:Sau khi n...  \n",
       "3  Bộ Nội vụ trả lời vấn đề này như sau:Khoản 11 ...  \n",
       "4  Đội thuế liên huyện Bình Long – Chơn Thành (cũ...  "
      ]
     },
     "execution_count": 4,
     "metadata": {},
     "output_type": "execute_result"
    }
   ],
   "source": [
    "# Create DataFrame from the data list\n",
    "df_bh = pd.DataFrame(articles_data)\n",
    "df_bh.head(5)"
   ]
  },
  {
   "cell_type": "code",
   "execution_count": 5,
   "metadata": {},
   "outputs": [
    {
     "name": "stdout",
     "output_type": "stream",
     "text": [
      "Successfully saved data to ../source_fine_tuning/data/ld_tl_ncc_data.csv\n"
     ]
    }
   ],
   "source": [
    "\n",
    " # Save DataFrame to CSV file\n",
    "csv_file = '../source_fine_tuning/data/ld_tl_ncc_data.csv'\n",
    "df_bh.to_csv(csv_file, encoding='utf-8',index_label='Index')\n",
    "\n",
    "print(f\"Successfully saved data to {csv_file}\")"
   ]
  },
  {
   "cell_type": "code",
   "execution_count": 6,
   "metadata": {},
   "outputs": [],
   "source": [
    "df_bh=pd.read_csv(\"../source_fine_tuning/data/ld_tl_ncc_data.csv\",encoding='utf-8')"
   ]
  },
  {
   "cell_type": "code",
   "execution_count": 7,
   "metadata": {},
   "outputs": [
    {
     "data": {
      "text/plain": [
       "(3197, 6)"
      ]
     },
     "execution_count": 7,
     "metadata": {},
     "output_type": "execute_result"
    }
   ],
   "source": [
    "df_bh.shape"
   ]
  }
 ],
 "metadata": {
  "kernelspec": {
   "display_name": "_env_",
   "language": "python",
   "name": "python3"
  },
  "language_info": {
   "codemirror_mode": {
    "name": "ipython",
    "version": 3
   },
   "file_extension": ".py",
   "mimetype": "text/x-python",
   "name": "python",
   "nbconvert_exporter": "python",
   "pygments_lexer": "ipython3",
   "version": "3.11.13"
  }
 },
 "nbformat": 4,
 "nbformat_minor": 2
}
