{
 "cells": [
  {
   "cell_type": "markdown",
   "metadata": {},
   "source": [
    "import libraries"
   ]
  },
  {
   "cell_type": "code",
   "execution_count": 2,
   "metadata": {},
   "outputs": [],
   "source": [
    "import requests\n",
    "from bs4 import BeautifulSoup\n",
    "import pandas as pd"
   ]
  },
  {
   "cell_type": "markdown",
   "metadata": {},
   "source": [
    "Xây dựng - Nông nghiệp - Môi trường"
   ]
  },
  {
   "cell_type": "markdown",
   "metadata": {},
   "source": [
    "find elements"
   ]
  },
  {
   "cell_type": "code",
   "execution_count": 3,
   "metadata": {},
   "outputs": [],
   "source": [
    "# Function to crawl data from a page\n",
    "def crawl_page(url):\n",
    "    response = requests.get(url)\n",
    "    soup = BeautifulSoup(response.content, 'html.parser')\n",
    "    articles = soup.find_all('div', class_='box-item-content')\n",
    "    articles_data = []\n",
    "    \n",
    "    for _, article in enumerate(articles, start=1):\n",
    "        # Get author and time information\n",
    "        author_info = article.find('div', class_='box-item-top')\n",
    "        name = author_info.find('span', class_='author').get_text(strip=True)\n",
    "        time = author_info.find('span', class_='time').get_text(strip=True)\n",
    "\n",
    "        # Get question title\n",
    "        question_element = article.find('a', class_='question-title')\n",
    "        question = question_element.get_text(strip=True)\n",
    "        \n",
    "        # Get situation/summary\n",
    "        summary = article.find('div', class_='question-sapo').get_text(strip=True)\n",
    "        \n",
    "        # Get detail link\n",
    "        detail_link = article.find('a', class_='box-viewmore')['href']\n",
    "        detail_url = f\"https://chinhsachonline.chinhphu.vn{detail_link}\"\n",
    "        \n",
    "        # Send HTTP request to get detail page content\n",
    "        detail_response = requests.get(detail_url)\n",
    "        detail_soup = BeautifulSoup(detail_response.content, 'html.parser')\n",
    "        \n",
    "        # Get answer from detail page\n",
    "        answer_div = detail_soup.find('div', class_='detail__rcontent')\n",
    "        answer = answer_div.get_text(strip=True) if answer_div else 'No answer available'\n",
    "        \n",
    "        # Add article information to the list\n",
    "        articles_data.append({\n",
    "            'Name': name,\n",
    "            'Time': time,\n",
    "            'Question': question,\n",
    "            'Situation': summary,\n",
    "            'Answer': answer\n",
    "        })\n",
    "    \n",
    "    return articles_data"
   ]
  },
  {
   "cell_type": "markdown",
   "metadata": {},
   "source": [
    "execute function"
   ]
  },
  {
   "cell_type": "code",
   "execution_count": 4,
   "metadata": {},
   "outputs": [],
   "source": [
    "articles_data = []\n",
    "for page_num in range(1, 400):\n",
    "    page_url = f\"https://chinhsachonline.chinhphu.vn/xay-dung-nong-nghiep-moi-truong/t1/13/trang-{page_num}.htm\"\n",
    "    articles_data.extend(crawl_page(page_url))"
   ]
  },
  {
   "cell_type": "markdown",
   "metadata": {},
   "source": [
    "export to CSV"
   ]
  },
  {
   "cell_type": "code",
   "execution_count": 5,
   "metadata": {},
   "outputs": [
    {
     "data": {
      "text/html": [
       "<div>\n",
       "<style scoped>\n",
       "    .dataframe tbody tr th:only-of-type {\n",
       "        vertical-align: middle;\n",
       "    }\n",
       "\n",
       "    .dataframe tbody tr th {\n",
       "        vertical-align: top;\n",
       "    }\n",
       "\n",
       "    .dataframe thead th {\n",
       "        text-align: right;\n",
       "    }\n",
       "</style>\n",
       "<table border=\"1\" class=\"dataframe\">\n",
       "  <thead>\n",
       "    <tr style=\"text-align: right;\">\n",
       "      <th></th>\n",
       "      <th>Name</th>\n",
       "      <th>Time</th>\n",
       "      <th>Question</th>\n",
       "      <th>Situation</th>\n",
       "      <th>Answer</th>\n",
       "    </tr>\n",
       "  </thead>\n",
       "  <tbody>\n",
       "    <tr>\n",
       "      <th>0</th>\n",
       "      <td>Nguyễn Văn Hòa</td>\n",
       "      <td>11:05 30/07/2025</td>\n",
       "      <td>Giấy chứng nhận khoanh vùng đất ở, tặng cho mộ...</td>\n",
       "      <td>Bố mẹ tôi đứng tên trên Giấy chứng nhận quyền ...</td>\n",
       "      <td>Cục Quản lý đất đai, Bộ Nông nghiệp và Môi trư...</td>\n",
       "    </tr>\n",
       "    <tr>\n",
       "      <th>1</th>\n",
       "      <td>Công ty CP Phát triển nhà C.T.</td>\n",
       "      <td>14:05 29/07/2025</td>\n",
       "      <td>Quy trình giao đất, cho thuê đất thực hiện dự ...</td>\n",
       "      <td>Chúng tôi là chủ đầu tư dự án khu tái định cư ...</td>\n",
       "      <td>Cục Quản lý Đất đai, Bộ Nông nghiệp và Môi trư...</td>\n",
       "    </tr>\n",
       "    <tr>\n",
       "      <th>2</th>\n",
       "      <td>Hoàng Mạnh Đạt</td>\n",
       "      <td>07:05 28/07/2025</td>\n",
       "      <td>Bị mất Giấy chứng nhận quyền sử dụng đất, xin ...</td>\n",
       "      <td>Đối với thủ tục cấp lại Giấy chứng nhận quyền ...</td>\n",
       "      <td>Bộ Nông nghiệp và Môi trường trả lời vấn đề nà...</td>\n",
       "    </tr>\n",
       "    <tr>\n",
       "      <th>3</th>\n",
       "      <td>Nguyễn Hồng</td>\n",
       "      <td>13:32 26/07/2025</td>\n",
       "      <td>Chuyển đất trồng cây thành đất nông nghiệp khá...</td>\n",
       "      <td>Tôi xin hỏi, trường hợp chuyển mục đích sử dụn...</td>\n",
       "      <td>Cục Quản lý đất đai, Bộ Nông nghiệp và Môi trư...</td>\n",
       "    </tr>\n",
       "    <tr>\n",
       "      <th>4</th>\n",
       "      <td>Ngô Ngọc Tân</td>\n",
       "      <td>11:05 25/07/2025</td>\n",
       "      <td>Ghi nhận các đề xuất sửa quy định về quản lý, ...</td>\n",
       "      <td>Trong giai đoạn 1990-2010, thực hiện chủ trươn...</td>\n",
       "      <td>Cục Lâm nghiệp và Kiểm lâm, Bộ Nông nghiệp và ...</td>\n",
       "    </tr>\n",
       "  </tbody>\n",
       "</table>\n",
       "</div>"
      ],
      "text/plain": [
       "                             Name              Time  \\\n",
       "0                  Nguyễn Văn Hòa  11:05 30/07/2025   \n",
       "1  Công ty CP Phát triển nhà C.T.  14:05 29/07/2025   \n",
       "2                  Hoàng Mạnh Đạt  07:05 28/07/2025   \n",
       "3                     Nguyễn Hồng  13:32 26/07/2025   \n",
       "4                    Ngô Ngọc Tân  11:05 25/07/2025   \n",
       "\n",
       "                                            Question  \\\n",
       "0  Giấy chứng nhận khoanh vùng đất ở, tặng cho mộ...   \n",
       "1  Quy trình giao đất, cho thuê đất thực hiện dự ...   \n",
       "2  Bị mất Giấy chứng nhận quyền sử dụng đất, xin ...   \n",
       "3  Chuyển đất trồng cây thành đất nông nghiệp khá...   \n",
       "4  Ghi nhận các đề xuất sửa quy định về quản lý, ...   \n",
       "\n",
       "                                           Situation  \\\n",
       "0  Bố mẹ tôi đứng tên trên Giấy chứng nhận quyền ...   \n",
       "1  Chúng tôi là chủ đầu tư dự án khu tái định cư ...   \n",
       "2  Đối với thủ tục cấp lại Giấy chứng nhận quyền ...   \n",
       "3  Tôi xin hỏi, trường hợp chuyển mục đích sử dụn...   \n",
       "4  Trong giai đoạn 1990-2010, thực hiện chủ trươn...   \n",
       "\n",
       "                                              Answer  \n",
       "0  Cục Quản lý đất đai, Bộ Nông nghiệp và Môi trư...  \n",
       "1  Cục Quản lý Đất đai, Bộ Nông nghiệp và Môi trư...  \n",
       "2  Bộ Nông nghiệp và Môi trường trả lời vấn đề nà...  \n",
       "3  Cục Quản lý đất đai, Bộ Nông nghiệp và Môi trư...  \n",
       "4  Cục Lâm nghiệp và Kiểm lâm, Bộ Nông nghiệp và ...  "
      ]
     },
     "execution_count": 5,
     "metadata": {},
     "output_type": "execute_result"
    }
   ],
   "source": [
    "# Create DataFrame from the data list\n",
    "df_bh = pd.DataFrame(articles_data)\n",
    "df_bh.head(5)"
   ]
  },
  {
   "cell_type": "code",
   "execution_count": 6,
   "metadata": {},
   "outputs": [
    {
     "name": "stdout",
     "output_type": "stream",
     "text": [
      "Successfully saved data to ../source_fine_tuning/data/xd_nn_mt_data.csv\n"
     ]
    }
   ],
   "source": [
    " # Save DataFrame to CSV file\n",
    "csv_file = '../source_fine_tuning/data/xd_nn_mt_data.csv'\n",
    "df_bh.to_csv(csv_file, encoding='utf-8',index_label='Index')\n",
    "\n",
    "print(f\"Successfully saved data to {csv_file}\")"
   ]
  },
  {
   "cell_type": "code",
   "execution_count": 7,
   "metadata": {},
   "outputs": [],
   "source": [
    "df_bh=pd.read_csv(\"../source_fine_tuning/data/xd_nn_mt_data.csv\",encoding='utf-8')"
   ]
  },
  {
   "cell_type": "code",
   "execution_count": 8,
   "metadata": {},
   "outputs": [
    {
     "data": {
      "text/plain": [
       "(2934, 6)"
      ]
     },
     "execution_count": 8,
     "metadata": {},
     "output_type": "execute_result"
    }
   ],
   "source": [
    "df_bh.shape"
   ]
  }
 ],
 "metadata": {
  "kernelspec": {
   "display_name": "_env_",
   "language": "python",
   "name": "python3"
  },
  "language_info": {
   "codemirror_mode": {
    "name": "ipython",
    "version": 3
   },
   "file_extension": ".py",
   "mimetype": "text/x-python",
   "name": "python",
   "nbconvert_exporter": "python",
   "pygments_lexer": "ipython3",
   "version": "3.11.13"
  }
 },
 "nbformat": 4,
 "nbformat_minor": 2
}
