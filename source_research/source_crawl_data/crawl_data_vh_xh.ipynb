{
 "cells": [
  {
   "cell_type": "markdown",
   "metadata": {},
   "source": [
    "import libraries"
   ]
  },
  {
   "cell_type": "code",
   "execution_count": 1,
   "metadata": {},
   "outputs": [],
   "source": [
    "import requests\n",
    "from bs4 import BeautifulSoup\n",
    "import pandas as pd"
   ]
  },
  {
   "cell_type": "markdown",
   "metadata": {},
   "source": [
    "Văn hoá - Xã hội"
   ]
  },
  {
   "cell_type": "markdown",
   "metadata": {},
   "source": [
    "find elements"
   ]
  },
  {
   "cell_type": "code",
   "execution_count": 2,
   "metadata": {},
   "outputs": [],
   "source": [
    "# Function to crawl data from a page\n",
    "def crawl_page(url):\n",
    "    response = requests.get(url)\n",
    "    soup = BeautifulSoup(response.content, 'html.parser')\n",
    "    articles = soup.find_all('div', class_='box-item-content')\n",
    "    articles_data = []\n",
    "    \n",
    "    for _, article in enumerate(articles, start=1):\n",
    "        # Get author and time information\n",
    "        author_info = article.find('div', class_='box-item-top')\n",
    "        name = author_info.find('span', class_='author').get_text(strip=True)\n",
    "        time = author_info.find('span', class_='time').get_text(strip=True)\n",
    "\n",
    "        # Get question title\n",
    "        question_element = article.find('a', class_='question-title')\n",
    "        question = question_element.get_text(strip=True)\n",
    "        \n",
    "        # Get situation/summary\n",
    "        summary = article.find('div', class_='question-sapo').get_text(strip=True)\n",
    "        \n",
    "        # Get detail link\n",
    "        detail_link = article.find('a', class_='box-viewmore')['href']\n",
    "        detail_url = f\"https://chinhsachonline.chinhphu.vn{detail_link}\"\n",
    "        \n",
    "        # Send HTTP request to get detail page content\n",
    "        detail_response = requests.get(detail_url)\n",
    "        detail_soup = BeautifulSoup(detail_response.content, 'html.parser')\n",
    "        \n",
    "        # Get answer from detail page\n",
    "        answer_div = detail_soup.find('div', class_='detail__rcontent')\n",
    "        answer = answer_div.get_text(strip=True) if answer_div else 'No answer available'\n",
    "        \n",
    "        # Add article information to the list\n",
    "        articles_data.append({\n",
    "            'Name': name,\n",
    "            'Time': time,\n",
    "            'Question': question,\n",
    "            'Situation': summary,\n",
    "            'Answer': answer\n",
    "        })\n",
    "    \n",
    "    return articles_data"
   ]
  },
  {
   "cell_type": "markdown",
   "metadata": {},
   "source": [
    "execute function"
   ]
  },
  {
   "cell_type": "code",
   "execution_count": 3,
   "metadata": {},
   "outputs": [],
   "source": [
    "articles_data = []\n",
    "for page_num in range(1, 300):\n",
    "    page_url = f\"https://chinhsachonline.chinhphu.vn/van-hoa-xa-hoi/t1/15/trang-{page_num}.htm\"\n",
    "    articles_data.extend(crawl_page(page_url))"
   ]
  },
  {
   "cell_type": "markdown",
   "metadata": {},
   "source": [
    "export to CSV"
   ]
  },
  {
   "cell_type": "code",
   "execution_count": 4,
   "metadata": {},
   "outputs": [
    {
     "data": {
      "text/html": [
       "<div>\n",
       "<style scoped>\n",
       "    .dataframe tbody tr th:only-of-type {\n",
       "        vertical-align: middle;\n",
       "    }\n",
       "\n",
       "    .dataframe tbody tr th {\n",
       "        vertical-align: top;\n",
       "    }\n",
       "\n",
       "    .dataframe thead th {\n",
       "        text-align: right;\n",
       "    }\n",
       "</style>\n",
       "<table border=\"1\" class=\"dataframe\">\n",
       "  <thead>\n",
       "    <tr style=\"text-align: right;\">\n",
       "      <th></th>\n",
       "      <th>Name</th>\n",
       "      <th>Time</th>\n",
       "      <th>Question</th>\n",
       "      <th>Situation</th>\n",
       "      <th>Answer</th>\n",
       "    </tr>\n",
       "  </thead>\n",
       "  <tbody>\n",
       "    <tr>\n",
       "      <th>0</th>\n",
       "      <td>Long Quy</td>\n",
       "      <td>09:05 30/07/2025</td>\n",
       "      <td>Hồ sơ, thủ tục đăng ký sang tên xe</td>\n",
       "      <td>Tôi mua lại một chiếc xe máy SH đăng ký năm 20...</td>\n",
       "      <td>Bộ Công an trả lời vấn đề này như sau:Tại Điều...</td>\n",
       "    </tr>\n",
       "    <tr>\n",
       "      <th>1</th>\n",
       "      <td>Phạm Ngọc Dung</td>\n",
       "      <td>15:05 29/07/2025</td>\n",
       "      <td>Điều kiện về thực hành để cấp phép hành nghề d...</td>\n",
       "      <td>Tôi là cử nhân dinh dưỡng, làm việc tại Trung ...</td>\n",
       "      <td>Bộ Y tế trả lời vấn đề này như sau:Tại khoản 4...</td>\n",
       "    </tr>\n",
       "    <tr>\n",
       "      <th>2</th>\n",
       "      <td>Phạm Khánh Trung</td>\n",
       "      <td>07:05 29/07/2025</td>\n",
       "      <td>Đơn vị nào cung ứng dịch vụ sự nghiệp thông ti...</td>\n",
       "      <td>Theo Công văn số 68/CV-BCĐ ngày 28/5/2025 của ...</td>\n",
       "      <td>Cục Thông tin cơ sở và Thông tin đối ngoại, Bộ...</td>\n",
       "    </tr>\n",
       "    <tr>\n",
       "      <th>3</th>\n",
       "      <td>Nguyễn Thanh Thúy</td>\n",
       "      <td>08:05 26/07/2025</td>\n",
       "      <td>Phụ cấp thâm niên nhà giáo được tính từ khi nào?</td>\n",
       "      <td>Tôi trúng tuyển viên chức ngành giáo dục tháng...</td>\n",
       "      <td>Bộ Giáo dục và Đào tạo trả lời vấn đề này như ...</td>\n",
       "    </tr>\n",
       "    <tr>\n",
       "      <th>4</th>\n",
       "      <td>Lê Thắm</td>\n",
       "      <td>08:26 25/07/2025</td>\n",
       "      <td>Văn bằng nào phù hợp để giảng dạy môn Giáo dục...</td>\n",
       "      <td>Tôi có bằng thạc sĩ quản lý công của Học viện ...</td>\n",
       "      <td>Bộ Giáo dục và Đào tạo trả lời vấn đề này như ...</td>\n",
       "    </tr>\n",
       "  </tbody>\n",
       "</table>\n",
       "</div>"
      ],
      "text/plain": [
       "                Name              Time  \\\n",
       "0           Long Quy  09:05 30/07/2025   \n",
       "1     Phạm Ngọc Dung  15:05 29/07/2025   \n",
       "2   Phạm Khánh Trung  07:05 29/07/2025   \n",
       "3  Nguyễn Thanh Thúy  08:05 26/07/2025   \n",
       "4            Lê Thắm  08:26 25/07/2025   \n",
       "\n",
       "                                            Question  \\\n",
       "0                 Hồ sơ, thủ tục đăng ký sang tên xe   \n",
       "1  Điều kiện về thực hành để cấp phép hành nghề d...   \n",
       "2  Đơn vị nào cung ứng dịch vụ sự nghiệp thông ti...   \n",
       "3   Phụ cấp thâm niên nhà giáo được tính từ khi nào?   \n",
       "4  Văn bằng nào phù hợp để giảng dạy môn Giáo dục...   \n",
       "\n",
       "                                           Situation  \\\n",
       "0  Tôi mua lại một chiếc xe máy SH đăng ký năm 20...   \n",
       "1  Tôi là cử nhân dinh dưỡng, làm việc tại Trung ...   \n",
       "2  Theo Công văn số 68/CV-BCĐ ngày 28/5/2025 của ...   \n",
       "3  Tôi trúng tuyển viên chức ngành giáo dục tháng...   \n",
       "4  Tôi có bằng thạc sĩ quản lý công của Học viện ...   \n",
       "\n",
       "                                              Answer  \n",
       "0  Bộ Công an trả lời vấn đề này như sau:Tại Điều...  \n",
       "1  Bộ Y tế trả lời vấn đề này như sau:Tại khoản 4...  \n",
       "2  Cục Thông tin cơ sở và Thông tin đối ngoại, Bộ...  \n",
       "3  Bộ Giáo dục và Đào tạo trả lời vấn đề này như ...  \n",
       "4  Bộ Giáo dục và Đào tạo trả lời vấn đề này như ...  "
      ]
     },
     "execution_count": 4,
     "metadata": {},
     "output_type": "execute_result"
    }
   ],
   "source": [
    "# Create DataFrame from the data list\n",
    "df_bh = pd.DataFrame(articles_data)\n",
    "df_bh.head(5)"
   ]
  },
  {
   "cell_type": "code",
   "execution_count": 5,
   "metadata": {},
   "outputs": [
    {
     "name": "stdout",
     "output_type": "stream",
     "text": [
      "Successfully saved data to ../source_fine_tuning/data/vh_xh_data.csv\n"
     ]
    }
   ],
   "source": [
    "\n",
    " # Save DataFrame to CSV file\n",
    "csv_file = '../source_fine_tuning/data/vh_xh_data.csv'\n",
    "df_bh.to_csv(csv_file, encoding='utf-8',index_label='Index')\n",
    "\n",
    "print(f\"Successfully saved data to {csv_file}\")"
   ]
  },
  {
   "cell_type": "code",
   "execution_count": 6,
   "metadata": {},
   "outputs": [],
   "source": [
    "df_bh=pd.read_csv(\"../source_fine_tuning/data/vh_xh_data.csv\",encoding='utf-8')"
   ]
  },
  {
   "cell_type": "code",
   "execution_count": 7,
   "metadata": {},
   "outputs": [
    {
     "data": {
      "text/plain": [
       "(2002, 6)"
      ]
     },
     "execution_count": 7,
     "metadata": {},
     "output_type": "execute_result"
    }
   ],
   "source": [
    "df_bh.shape"
   ]
  }
 ],
 "metadata": {
  "kernelspec": {
   "display_name": "_env_",
   "language": "python",
   "name": "python3"
  },
  "language_info": {
   "codemirror_mode": {
    "name": "ipython",
    "version": 3
   },
   "file_extension": ".py",
   "mimetype": "text/x-python",
   "name": "python",
   "nbconvert_exporter": "python",
   "pygments_lexer": "ipython3",
   "version": "3.11.13"
  }
 },
 "nbformat": 4,
 "nbformat_minor": 2
}
